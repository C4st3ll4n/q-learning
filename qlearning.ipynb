{
  "nbformat": 4,
  "nbformat_minor": 0,
  "metadata": {
    "colab": {
      "name": "qlearning.ipynb",
      "provenance": [],
      "authorship_tag": "ABX9TyO2OaJAx2Utc/NfvOiNmVAy",
      "include_colab_link": true
    },
    "kernelspec": {
      "name": "python3",
      "display_name": "Python 3"
    }
  },
  "cells": [
    {
      "cell_type": "markdown",
      "metadata": {
        "id": "view-in-github",
        "colab_type": "text"
      },
      "source": [
        "<a href=\"https://colab.research.google.com/github/C4st3ll4n/q-learning/blob/main/qlearning.ipynb\" target=\"_parent\"><img src=\"https://colab.research.google.com/assets/colab-badge.svg\" alt=\"Open In Colab\"/></a>"
      ]
    },
    {
      "cell_type": "markdown",
      "metadata": {
        "id": "x1IW0AglvTzI"
      },
      "source": [
        "importação de libs"
      ]
    },
    {
      "cell_type": "code",
      "metadata": {
        "id": "3724ITcEt-Ox"
      },
      "source": [
        "import numpy as np\r\n"
      ],
      "execution_count": 1,
      "outputs": []
    },
    {
      "cell_type": "markdown",
      "metadata": {
        "id": "UhV4lw7dvRhg"
      },
      "source": [
        "Definindo constantes"
      ]
    },
    {
      "cell_type": "code",
      "metadata": {
        "id": "rw0PsLtzvLQb"
      },
      "source": [
        "gamma = .75\r\n",
        "alpha =  .9\r\n"
      ],
      "execution_count": 2,
      "outputs": []
    },
    {
      "cell_type": "markdown",
      "metadata": {
        "id": "kK-wIW_Uva3j"
      },
      "source": [
        "Configurando ambiente"
      ]
    },
    {
      "cell_type": "code",
      "metadata": {
        "id": "a1ueALXQvPyx"
      },
      "source": [
        "location_to_state = {\"A\":0,\"B\":1,\"C\":2,\"D\":3,\"E\":4,\"F\":5,\"G\":6,\"H\":7,\"I\":8,\"J\":9,\"K\":10,\"L\":11}\r\n",
        "state_to_location = {state:location for location, state in location_to_state.items()}\r\n",
        "\r\n",
        "actions = [0,1,2,3,4,5,6,7,8,9,10,11]\r\n",
        "R = np.array([\r\n",
        "              [0,1,0,0,0,0,0,0,0,0,0,0],\r\n",
        "              [1,0,1,0,0,1,0,0,0,0,0,0],\r\n",
        "              [0,1,0,0,0,0,1,0,0,0,0,0],\r\n",
        "              [0,0,0,0,0,0,0,1,0,0,0,0],\r\n",
        "              [0,0,0,0,0,0,0,0,1,0,0,0],\r\n",
        "              [0,1,0,0,0,0,0,0,0,1,0,0],\r\n",
        "              [0,0,1,0,0,0,1000,1,0,0,0,0],\r\n",
        "              [0,0,0,1,0,0,1,0,0,0,0,1],\r\n",
        "              [0,0,0,0,1,0,0,0,0,1,0,0],\r\n",
        "              [0,0,0,0,0,1,0,0,1,0,1,0],\r\n",
        "              [0,0,0,0,0,0,0,0,0,1,0,1],\r\n",
        "              [0,0,0,0,0,0,0,1,0,0,1,0],\r\n",
        "              ])"
      ],
      "execution_count": 3,
      "outputs": []
    },
    {
      "cell_type": "code",
      "metadata": {
        "id": "6GMh7duowKlz"
      },
      "source": [
        "Q = np.array(np.zeros([12,12]))"
      ],
      "execution_count": 4,
      "outputs": []
    },
    {
      "cell_type": "code",
      "metadata": {
        "id": "6vlVDDNz6FNZ"
      },
      "source": [
        "for i in range(2000):\r\n",
        "    current_state = np.random.randint(0,12)\r\n",
        "    \r\n",
        "    ### Check the actions that the agent can do and append in a list\r\n",
        "    playable_actions = []\r\n",
        "    for j in range(12):\r\n",
        "        if R[current_state, j] > 0:\r\n",
        "            playable_actions.append(j)\r\n",
        "\r\n",
        "    next_state = np.random.choice(playable_actions)\r\n",
        "\r\n",
        "    time_difference = R[current_state, next_state] + gamma *\\\r\n",
        "     Q[next_state, np.argmax(Q[next_state,])] - Q[current_state, next_state]\r\n",
        "\r\n",
        "    Q[current_state, next_state] = Q[current_state, next_state] + alpha\\\r\n",
        "     * time_difference\r\n",
        "\r\n",
        "     \r\n",
        "\r\n"
      ],
      "execution_count": 5,
      "outputs": []
    },
    {
      "cell_type": "code",
      "metadata": {
        "colab": {
          "base_uri": "https://localhost:8080/"
        },
        "id": "ICmf9qg09bb8",
        "outputId": "22961434-14fd-4641-e906-052c67478d94"
      },
      "source": [
        "print(Q.astype(int))"
      ],
      "execution_count": 6,
      "outputs": [
        {
          "output_type": "stream",
          "text": [
            "[[   0 1689    0    0    0    0    0    0    0    0    0    0]\n",
            " [1268    0 2251    0    0 1268    0    0    0    0    0    0]\n",
            " [   0 1689    0    0    0    0 3000    0    0    0    0    0]\n",
            " [   0    0    0    0    0    0    0 2251    0    0    0    0]\n",
            " [   0    0    0    0    0    0    0    0  715    0    0    0]\n",
            " [   0 1689    0    0    0    0    0    0    0  952    0    0]\n",
            " [   0    0 2251    0    0    0 3999 2251    0    0    0    0]\n",
            " [   0    0    0 1689    0    0 3000    0    0    0    0 1689]\n",
            " [   0    0    0    0  537    0    0    0    0  952    0    0]\n",
            " [   0    0    0    0    0 1268    0    0  715    0 1268    0]\n",
            " [   0    0    0    0    0    0    0    0    0  952    0 1689]\n",
            " [   0    0    0    0    0    0    0 2251    0    0 1268    0]]\n"
          ],
          "name": "stdout"
        }
      ]
    },
    {
      "cell_type": "code",
      "metadata": {
        "id": "LlsOqEJTwQEE"
      },
      "source": [
        "def route(local_start, local_end):\r\n",
        "    route = [local_start]\r\n",
        "    next_location = local_start\r\n",
        "    while (next_location != local_end):\r\n",
        "            starting_state = location_to_state[local_start]\r\n",
        "            next_state = np.argmax(Q[starting_state])\r\n",
        "            next_location = state_to_location[next_state]\r\n",
        "            route.append(next_location)\r\n",
        "            local_start = next_location\r\n",
        "    return route\r\n"
      ],
      "execution_count": 7,
      "outputs": []
    },
    {
      "cell_type": "code",
      "metadata": {
        "colab": {
          "base_uri": "https://localhost:8080/"
        },
        "id": "-TbBI93nxRl1",
        "outputId": "23219af7-013b-4429-fe2e-557f0bed4ed2"
      },
      "source": [
        "print(f\"Rota: {route('E','G')}\")"
      ],
      "execution_count": 8,
      "outputs": [
        {
          "output_type": "stream",
          "text": [
            "Rota: ['E', 'I', 'J', 'F', 'B', 'C', 'G']\n"
          ],
          "name": "stdout"
        }
      ]
    },
    {
      "cell_type": "code",
      "metadata": {
        "id": "j7UDmHxxxgO6"
      },
      "source": [
        ""
      ],
      "execution_count": 8,
      "outputs": []
    }
  ]
}